{
 "metadata": {
  "name": "",
  "signature": "sha256:514e755ade017ea8cf09eaf4abf8487f135cd8b7dcfb6f22ffee5a21423e6e57"
 },
 "nbformat": 3,
 "nbformat_minor": 0,
 "worksheets": [
  {
   "cells": [
    {
     "cell_type": "code",
     "collapsed": false,
     "input": [
      "\"\"\"\n",
      "Monte Carlo Simulation of nanostructured thin films\n",
      "\n",
      "Author: Alejandro Cardenas-Avendano\n",
      "email: alejandro.cardenasa@konradlorenz.edu.co\n",
      "Website: https://github.com/alejandroc137\n",
      "License: BSD\n",
      "Please feel free to use and modify this, but keep the above information. Thanks!\n",
      "\"\"\""
     ],
     "language": "python",
     "metadata": {},
     "outputs": []
    },
    {
     "cell_type": "code",
     "collapsed": false,
     "input": [
      "import numpy as np\n",
      "from scipy import ndimage\n",
      "import matplotlib.pyplot as plt\n",
      "import Image\n",
      "#%pylab inline"
     ],
     "language": "python",
     "metadata": {},
     "outputs": [],
     "prompt_number": 1
    },
    {
     "cell_type": "code",
     "collapsed": false,
     "input": [
      "si=100\n",
      "image_data = np.array(Image.open(\"pelicula.JPG\"))\n",
      "r,g,b = image_data.T\n",
      "iaux=image_data[:100,:100]\n",
      "new=r[:si,:si].T\n",
      "msize=new.shape"
     ],
     "language": "python",
     "metadata": {},
     "outputs": [],
     "prompt_number": 2
    },
    {
     "cell_type": "code",
     "collapsed": false,
     "input": [
      "mdim=msize[1]*msize[0]"
     ],
     "language": "python",
     "metadata": {},
     "outputs": [],
     "prompt_number": 3
    },
    {
     "cell_type": "markdown",
     "metadata": {},
     "source": [
      "Porosity criteria. It has to be a number  $p$ such\n",
      "\n",
      "$0<p<256$ "
     ]
    },
    {
     "cell_type": "code",
     "collapsed": false,
     "input": [
      "p=10"
     ],
     "language": "python",
     "metadata": {},
     "outputs": [],
     "prompt_number": 4
    },
    {
     "cell_type": "markdown",
     "metadata": {},
     "source": [
      "`simulated` is a matrix where I put the porosity from the image"
     ]
    },
    {
     "cell_type": "code",
     "collapsed": false,
     "input": [
      "aux=0\n",
      "simulated=np.ones(mdim).reshape(msize[0],msize[1])\n",
      "for i in xrange(msize[1]):\n",
      "    for j in xrange(msize[0]):\n",
      "        if new[i,j]<p:\n",
      "            simulated[i,j]=new[i,j]\n",
      "            aux+=1"
     ],
     "language": "python",
     "metadata": {},
     "outputs": [],
     "prompt_number": 5
    },
    {
     "cell_type": "code",
     "collapsed": false,
     "input": [
      "mp=np.zeros(shape=(aux,2))\n",
      "aux1=0\n",
      "for i in xrange(msize[1]):\n",
      "    for j in xrange(msize[0]):\n",
      "        if new[i,j]<p and new[i,j]!=1 :\n",
      "            mp[aux1,0]=i\n",
      "            mp[aux1,1]=j\n",
      "            aux1+=1"
     ],
     "language": "python",
     "metadata": {},
     "outputs": [],
     "prompt_number": 6
    },
    {
     "cell_type": "heading",
     "level": 1,
     "metadata": {},
     "source": [
      "Code to solve Laplace's Equation"
     ]
    },
    {
     "cell_type": "markdown",
     "metadata": {},
     "source": [
      "This code solves Laplaxe's Equations by an iterative simple method know as \"Relaxation\""
     ]
    },
    {
     "cell_type": "markdown",
     "metadata": {},
     "source": [
      " $\\nabla^2 \\varphi = 0$  $\\qquad\\mbox{or}\\qquad \\Delta\\varphi = 0$"
     ]
    },
    {
     "cell_type": "markdown",
     "metadata": {},
     "source": [
      "Potential's values"
     ]
    },
    {
     "cell_type": "code",
     "collapsed": false,
     "input": [
      "vmax=10\n",
      "vmin=0"
     ],
     "language": "python",
     "metadata": {},
     "outputs": [],
     "prompt_number": 7
    },
    {
     "cell_type": "markdown",
     "metadata": {},
     "source": [
      "Number of iterations allowed"
     ]
    },
    {
     "cell_type": "code",
     "collapsed": false,
     "input": [
      "lp=100000"
     ],
     "language": "python",
     "metadata": {},
     "outputs": [],
     "prompt_number": 8
    },
    {
     "cell_type": "markdown",
     "metadata": {},
     "source": [
      "Matrix to be relaxed "
     ]
    },
    {
     "cell_type": "code",
     "collapsed": false,
     "input": [
      "m=np.zeros(shape=(msize[1],msize[0]))\n",
      "Vr=np.zeros(shape=(msize[1],msize[0]))\n",
      "Vl=np.zeros(shape=(msize[1],msize[0]))\n",
      "Vu=np.zeros(shape=(msize[1],msize[0]))\n",
      "Vd=np.zeros(shape=(msize[1],msize[0]))\n",
      "pr=np.zeros(shape=(msize[1],msize[0]))\n",
      "pl=np.zeros(shape=(msize[1],msize[0]))\n",
      "pu=np.zeros(shape=(msize[1],msize[0]))\n",
      "pd=np.zeros(shape=(msize[1],msize[0]))"
     ],
     "language": "python",
     "metadata": {},
     "outputs": [],
     "prompt_number": 9
    },
    {
     "cell_type": "markdown",
     "metadata": {},
     "source": [
      "Location of the electrodes"
     ]
    },
    {
     "cell_type": "code",
     "collapsed": false,
     "input": [
      "yvmax=round(2.5*msize[0]/10.)\n",
      "yvmin=round(7.5*msize[0]/10.)\n",
      "xv=round(msize[1]*(0.5))\n",
      "m[xv,yvmax]=vmax\n",
      "m[xv,yvmin]=vmin"
     ],
     "language": "python",
     "metadata": {},
     "outputs": [],
     "prompt_number": 15
    },
    {
     "cell_type": "markdown",
     "metadata": {},
     "source": [
      "Visualization of the electrodes"
     ]
    },
    {
     "cell_type": "code",
     "collapsed": false,
     "input": [
      "plt.figure(figsize=(12,12))\n",
      "plt.contour(m,50)\n",
      "#plt.colorbar()\n",
      "plt.show()"
     ],
     "language": "python",
     "metadata": {},
     "outputs": [],
     "prompt_number": 16
    },
    {
     "cell_type": "markdown",
     "metadata": {},
     "source": [
      "Relaxation"
     ]
    },
    {
     "cell_type": "code",
     "collapsed": false,
     "input": [
      "for r in xrange(lp):\n",
      "    for x in xrange(1,msize[1]-1):\n",
      "        for y in xrange(1,msize[0]-1):\n",
      "            if not ((y==yvmax and x==xv) or (y==yvmin and x==xv)):\n",
      "                m[x,y]=(m[x+1,y]+m[x-1,y]+m[x,y+1]+m[x,y-1])/4.\n",
      "    for x in xrange(0,msize[1]):\n",
      "        m[x,0]=m[x,1]\n",
      "        m[x,msize[0]-1]=m[x,msize[0]-2]\n",
      "    for y in xrange(0,msize[0]):\n",
      "        m[0,y]=m[1,y]\n",
      "        m[msize[1]-1,y]=m[msize[1]-2,y]"
     ],
     "language": "python",
     "metadata": {},
     "outputs": []
    },
    {
     "cell_type": "code",
     "collapsed": false,
     "input": [
      "[px,py]=np.gradient(m)\n",
      "X, Y = np.meshgrid(np.linspace(0,si-1,si), np.linspace(0,si-1,si))\n",
      "figure(figsize=(12,6))\n",
      "contour(m,100)\n",
      "colorbar()\n",
      "quiver(X,Y,-py,-px)"
     ],
     "language": "python",
     "metadata": {},
     "outputs": []
    },
    {
     "cell_type": "markdown",
     "metadata": {},
     "source": [
      "Now, we can see the result. It is expected to see nice equipotentials"
     ]
    },
    {
     "cell_type": "markdown",
     "metadata": {},
     "source": [
      "In this variable I stored the result of the relaxation proccess since it is computational heavy"
     ]
    },
    {
     "cell_type": "code",
     "collapsed": false,
     "input": [
      "import pickle\n",
      "'''\n",
      "f = open('store100100.pckl', 'w')\n",
      "pickle.dump(m, f)\n",
      "f.close()\n",
      "'''\n",
      "f = open('store100100.pckl')\n",
      "m = pickle.load(f)\n",
      "f.close()\n",
      "#'''"
     ],
     "language": "python",
     "metadata": {},
     "outputs": []
    },
    {
     "cell_type": "code",
     "collapsed": false,
     "input": [
      "for i in xrange(aux):\n",
      "    if not((mp[i,0]==xv and mp[i,1]==yvmax) or (mp[i,0]==xv and mp[i,1]==yvmin)):\n",
      "        m[mp[i,0],mp[i,1]]=vmax"
     ],
     "language": "python",
     "metadata": {},
     "outputs": []
    },
    {
     "cell_type": "code",
     "collapsed": false,
     "input": [
      "[px,py]=np.gradient(m)\n",
      "X, Y = np.meshgrid(np.linspace(0,si-1,si), np.linspace(0,si-1,si))\n",
      "#plt.figure(figsize=(12,12))\n",
      "#plt.quiver(X,Y,-py,-px, width=0.003)\n",
      "plt.contour(m,500)\n",
      "plt.colorbar()\n",
      "plt.show()\n",
      "plt.imshow(iaux)"
     ],
     "language": "python",
     "metadata": {},
     "outputs": []
    },
    {
     "cell_type": "heading",
     "level": 2,
     "metadata": {},
     "source": [
      "Electrons"
     ]
    },
    {
     "cell_type": "markdown",
     "metadata": {},
     "source": [
      "Number of electrons "
     ]
    },
    {
     "cell_type": "code",
     "collapsed": false,
     "input": [
      "el=10"
     ],
     "language": "python",
     "metadata": {},
     "outputs": []
    },
    {
     "cell_type": "code",
     "collapsed": false,
     "input": [
      "steps=np.zeros(shape=(el,1))"
     ],
     "language": "python",
     "metadata": {},
     "outputs": []
    },
    {
     "cell_type": "code",
     "collapsed": false,
     "input": [
      "h=0\n",
      "for q in xrange(1,el+1):\n",
      "    for y in xrange(1,msize[0]-1):\n",
      "        for x in xrange(1,msize[1]-1):\n",
      "            if m[x,y]<m[x,y+1]:\n",
      "                Vr[x,y] = 0 #Vr tells the potential diference between the poinx x,y and its right neighbour \n",
      "            else:\n",
      "                Vr[x,y] = m[x,y]-m[x,y+1]         \n",
      "            if m[x,y]<m[x,y-1]:\n",
      "                Vl[x,y] = 0 #Vl tells the potential diference between the poinx x,y and its left neighbour \n",
      "            else: \n",
      "                Vl[x,y] = m[x,y]-m[x,y-1]\n",
      "            if m[x,y]<m[x-1,y]:\n",
      "                Vu[x,y] = 0 #Vu tells the potential diference between the poinx x,y and its upper neighbour \n",
      "            else:\n",
      "                Vu[x,y] = m[x,y]-m[x-1,y]\n",
      "            if m[x,y]<m[x+1,y]:\n",
      "                Vd[x,y] = 0  #Vd tells the potential diference between the poinx x,y and its down neighbour \n",
      "            else:\n",
      "                Vd[x,y] = m[x,y]-m[x+1,y]      \n",
      "            pr[x,y]= Vr[x,y]/[Vr[x,y]+Vl[x,y]+Vu[x,y]+Vd[x,y]] #Defines the probabilitx of a right jump \n",
      "            pl[x,y]= Vl[x,y]/[Vr[x,y]+Vl[x,y]+Vu[x,y]+Vd[x,y]] #Defines the probabilitx of a left jump \n",
      "            pd[x,y]= Vd[x,y]/[Vr[x,y]+Vl[x,y]+Vu[x,y]+Vd[x,y]] #Defines the probabilitx of a down jump \n",
      "            pu[x,y]= Vu[x,y]/[Vr[x,y]+Vl[x,y]+Vu[x,y]+Vd[x,y]] #Defines the probabilitx of an upper jump \n",
      "    #Mayimum steps allowed\n",
      "    k=3*max(msize[1],msize[0])\n",
      "    #The s matriy will \"follow\" the electron\n",
      "    s=np.zeros(shape=(k,2)) \n",
      "    #Defines the initial position of the electron\n",
      "    s[0,1]= yvmax \n",
      "    s[0,0]=xv \n",
      "    while x!= xv and y!= yvmin:\n",
      "        y=yvmax\n",
      "        x=xv\n",
      "        p=0\n",
      "        for i in xrange(0,k-1):\n",
      "            z=rand()\n",
      "            if z <=pr[x,y]:              #Jump to the right\n",
      "                s[i+1,0]=s[i,0]+1\n",
      "                s[i+1,1]=s[i,1]\n",
      "                p=p+1\n",
      "                y=y+1\n",
      "            elif pr[x,y]<z<=(pr[x,y]+pl[x,y]): #Jump to the left\n",
      "                s[i+1,0]=s[i,0]-1\n",
      "                s[i+1,1]=s[i,1]\n",
      "                p=p+1\n",
      "                y=y-1\n",
      "            elif (pr[x,y]+pl[x,y])<z<=(pr[x,y]+pl[x,y]+pu[x,y]):   #Jump to the upper direction\n",
      "                s[i+1,0]=s[i,0]\n",
      "                s[i+1,1]=s[i,1]-1\n",
      "                p=p+1\n",
      "                x=x-1\n",
      "            elif (pr[x,y]+pl[x,y]+pu[x,y])<z<=(pr[x,y]+pl[x,y]+pu[x,y]+pd[x,y]):   #Jump to the down direction\n",
      "                s[i+1,0]=s[i,0]\n",
      "                s[i+1,1]=s[i,1]+1\n",
      "                x=x+1\n",
      "                p=p+1\n",
      "    steps[h,0]=p\n",
      "    h=h+1"
     ],
     "language": "python",
     "metadata": {},
     "outputs": []
    },
    {
     "cell_type": "code",
     "collapsed": false,
     "input": [
      "results=[mean(steps),std(steps),var(steps)]"
     ],
     "language": "python",
     "metadata": {},
     "outputs": []
    },
    {
     "cell_type": "code",
     "collapsed": false,
     "input": [
      "results"
     ],
     "language": "python",
     "metadata": {},
     "outputs": []
    },
    {
     "cell_type": "code",
     "collapsed": false,
     "input": [],
     "language": "python",
     "metadata": {},
     "outputs": []
    }
   ],
   "metadata": {}
  }
 ]
}