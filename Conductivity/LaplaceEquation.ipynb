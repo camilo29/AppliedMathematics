{
 "metadata": {
  "name": "",
  "signature": "sha256:b744e4bfebadb1d1f0c52ed88643d370b0588f73d5dc880daddb4c1e29a6e19b"
 },
 "nbformat": 3,
 "nbformat_minor": 0,
 "worksheets": [
  {
   "cells": [
    {
     "cell_type": "code",
     "collapsed": false,
     "input": [
      "import numpy as np\n",
      "from scipy import ndimage\n",
      "import matplotlib.pyplot as plt\n",
      "import Image\n",
      "%pylab inline"
     ],
     "language": "python",
     "metadata": {},
     "outputs": [
      {
       "output_type": "stream",
       "stream": "stdout",
       "text": [
        "Populating the interactive namespace from numpy and matplotlib\n"
       ]
      }
     ],
     "prompt_number": 6
    },
    {
     "cell_type": "code",
     "collapsed": false,
     "input": [
      "image_data = np.array(Image.open(\"pelicula.JPG\"))\n",
      "r,g,b = image_data.T\n",
      "new=r[:,:400].T\n",
      "msize=new.shape"
     ],
     "language": "python",
     "metadata": {},
     "outputs": [],
     "prompt_number": 23
    },
    {
     "cell_type": "code",
     "collapsed": false,
     "input": [
      "mdim=msize[0]*msize[1]"
     ],
     "language": "python",
     "metadata": {},
     "outputs": [],
     "prompt_number": 24
    },
    {
     "cell_type": "markdown",
     "metadata": {},
     "source": [
      "Porosity criteria. It has to be a number  $p$ such\n",
      "\n",
      "$0<p<256$ "
     ]
    },
    {
     "cell_type": "code",
     "collapsed": false,
     "input": [
      "p=0"
     ],
     "language": "python",
     "metadata": {},
     "outputs": [],
     "prompt_number": 29
    },
    {
     "cell_type": "markdown",
     "metadata": {},
     "source": [
      "`simulated` is a matrix where I put the porosity from the image"
     ]
    },
    {
     "cell_type": "code",
     "collapsed": false,
     "input": [
      "aux=0\n",
      "simulated=ones(mdim).reshape(msize[0],msize[1])\n",
      "for i in xrange(msize[0]):\n",
      "    for j in xrange(msize[1]):\n",
      "        if new[i,j]==p:\n",
      "            simulated[i,j]=new[i,j]\n",
      "            aux+=1"
     ],
     "language": "python",
     "metadata": {},
     "outputs": [],
     "prompt_number": 31
    },
    {
     "cell_type": "code",
     "collapsed": false,
     "input": [
      "mp=np.zeros(shape=(aux,2))\n",
      "aux1=0\n",
      "for i in xrange(msize[0]):\n",
      "    for j in xrange(msize[1]):\n",
      "        if new[i,j]==p:\n",
      "            mp[aux1,0]=i\n",
      "            mp[aux1,1]=j\n",
      "            aux1+=1"
     ],
     "language": "python",
     "metadata": {},
     "outputs": [],
     "prompt_number": 44
    },
    {
     "cell_type": "heading",
     "level": 1,
     "metadata": {},
     "source": [
      "Code to solve Laplace's Equation"
     ]
    },
    {
     "cell_type": "markdown",
     "metadata": {},
     "source": [
      "This code solves Laplaxe's Equations by an iterative simple method know as \"Relaxation\""
     ]
    },
    {
     "cell_type": "markdown",
     "metadata": {},
     "source": [
      " $\\nabla^2 \\varphi = 0$  $\\qquad\\mbox{or}\\qquad \\Delta\\varphi = 0$"
     ]
    },
    {
     "cell_type": "markdown",
     "metadata": {},
     "source": [
      "Potential's values"
     ]
    },
    {
     "cell_type": "code",
     "collapsed": false,
     "input": [
      "vmax=10\n",
      "vmin=0"
     ],
     "language": "python",
     "metadata": {},
     "outputs": [],
     "prompt_number": 25
    },
    {
     "cell_type": "markdown",
     "metadata": {},
     "source": [
      "Number of iterations allowed"
     ]
    },
    {
     "cell_type": "code",
     "collapsed": false,
     "input": [
      "lp=100000"
     ],
     "language": "python",
     "metadata": {},
     "outputs": [],
     "prompt_number": 26
    },
    {
     "cell_type": "markdown",
     "metadata": {},
     "source": [
      "Matrix to be relaxed "
     ]
    },
    {
     "cell_type": "code",
     "collapsed": false,
     "input": [
      "m=np.zeros(shape=(msize[0],msize[1]))"
     ],
     "language": "python",
     "metadata": {},
     "outputs": [],
     "prompt_number": 27
    },
    {
     "cell_type": "markdown",
     "metadata": {},
     "source": [
      "Location of the electrodes"
     ]
    },
    {
     "cell_type": "code",
     "collapsed": false,
     "input": [
      "xvmax=round(3.*msize[0]/10)\n",
      "xvmin=round(8.*msize[0]/10)\n",
      "yv=round(msize[1]/2.)\n",
      "m[yv,xvmax]=vmax\n",
      "m[yv,xvmin]=vmin"
     ],
     "language": "python",
     "metadata": {},
     "outputs": [],
     "prompt_number": 40
    },
    {
     "cell_type": "markdown",
     "metadata": {},
     "source": [
      "Relaxation"
     ]
    },
    {
     "cell_type": "code",
     "collapsed": false,
     "input": [],
     "language": "python",
     "metadata": {},
     "outputs": []
    }
   ],
   "metadata": {}
  }
 ]
}